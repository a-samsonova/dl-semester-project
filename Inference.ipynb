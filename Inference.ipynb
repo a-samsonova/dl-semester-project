{
  "nbformat": 4,
  "nbformat_minor": 0,
  "metadata": {
    "colab": {
      "name": "Inference.ipynb",
      "provenance": [],
      "collapsed_sections": []
    },
    "kernelspec": {
      "name": "python3",
      "display_name": "Python 3"
    },
    "language_info": {
      "name": "python"
    }
  },
  "cells": [
    {
      "cell_type": "markdown",
      "metadata": {
        "id": "7g5R_T3F2JJ9"
      },
      "source": [
        "##Libs and mounting drive"
      ]
    },
    {
      "cell_type": "code",
      "metadata": {
        "id": "NTAI9QXE0sHh"
      },
      "source": [
        "from google.colab import drive\n",
        "import os\n",
        "import torch\n",
        "import torch.nn as nn\n",
        "import torch.optim as optim\n",
        "import torchvision\n",
        "from torchvision import datasets, models, transforms\n",
        "import numpy as np\n",
        "import pandas as pd\n",
        "from PIL import Image\n",
        "from matplotlib.pyplot import imshow\n",
        "%matplotlib inline"
      ],
      "execution_count": null,
      "outputs": []
    },
    {
      "cell_type": "code",
      "metadata": {
        "id": "EbFlQttq2Fzz"
      },
      "source": [
        "drive.mount('/content/gdrive')"
      ],
      "execution_count": null,
      "outputs": []
    },
    {
      "cell_type": "code",
      "metadata": {
        "id": "EizFIcx_2HVB"
      },
      "source": [
        "os.chdir('/content/gdrive/My Drive/dogBreedClassifier')\n",
        "os.getcwd()"
      ],
      "execution_count": null,
      "outputs": []
    },
    {
      "cell_type": "markdown",
      "metadata": {
        "id": "jlpfAAW02RA9"
      },
      "source": [
        "##Inference"
      ]
    },
    {
      "cell_type": "code",
      "metadata": {
        "id": "L8bGB50M2UJM"
      },
      "source": [
        "model = models.resnet50()\n",
        "for param in model.parameters():\n",
        "  param.requiers_grad = False\n",
        "model.fc = nn.Linear(2048, 120)"
      ],
      "execution_count": null,
      "outputs": []
    },
    {
      "cell_type": "code",
      "metadata": {
        "id": "wJF3J5TS2YzV"
      },
      "source": [
        "device = torch.device(\"cuda:0\" if torch.cuda.is_available() else \"cpu\")"
      ],
      "execution_count": null,
      "outputs": []
    },
    {
      "cell_type": "code",
      "metadata": {
        "id": "mG0SNryp2awc"
      },
      "source": [
        "classes = ['affenpinscher', 'afghan_hound', 'african_hunting_dog', 'airedale',\n",
        "               'american_staffordshire_terrier', 'appenzeller', 'australian_terrier',\n",
        "               'basenji', 'basset', 'beagle', 'bedlington_terrier', 'bernese_mountain_dog',\n",
        "               'black-and-tan_coonhound', 'blenheim_spaniel', 'bloodhound', 'bluetick',\n",
        "               'border_collie', 'border_terrier', 'borzoi', 'boston_bull',\n",
        "               'bouvier_des_flandres', 'boxer', 'brabancon_griffon', 'briard',\n",
        "               'brittany_spaniel', 'bull_mastiff', 'cairn', 'cardigan', 'chesapeake_bay_retriever',\n",
        "               'chihuahua', 'chow', 'clumber', 'cocker_spaniel', 'collie',\n",
        "               'curly-coated_retriever', 'dandie_dinmont', 'dhole', 'dingo',\n",
        "               'doberman', 'english_foxhound', 'english_setter', 'english_springer',\n",
        "               'entlebucher', 'eskimo_dog', 'flat-coated_retriever', 'french_bulldog',\n",
        "               'german_shepherd', 'german_short-haired_pointer', 'giant_schnauzer',\n",
        "               'golden_retriever', 'gordon_setter', 'great_dane', 'great_pyrenees', 'greater_swiss_mountain_dog',\n",
        "               'groenendael', 'ibizan_hound', 'irish_setter', 'irish_terrier', 'irish_water_spaniel',\n",
        "               'irish_wolfhound', 'italian_greyhound', 'japanese_spaniel', 'keeshond',\n",
        "               'kelpie', 'kerry_blue_terrier', 'komondor', 'kuvasz', 'labrador_retriever',\n",
        "               'lakeland_terrier', 'leonberg', 'lhasa', 'malamute',\n",
        "               'malinois', 'maltese_dog', 'mexican_hairless', 'miniature_pinscher',\n",
        "               'miniature_poodle', 'miniature_schnauzer', 'newfoundland', 'norfolk_terrier', 'norwegian_elkhound',\n",
        "               'norwich_terrier', 'old_english_sheepdog', 'otterhound', 'papillon',\n",
        "               'pekinese', 'pembroke', 'pomeranian', 'pug', 'redbone',\n",
        "               'rhodesian_ridgeback', 'rottweiler', 'saint_bernard', 'saluki', 'samoyed',\n",
        "               'schipperke', 'scotch_terrier', 'scottish_deerhound', 'sealyham_terrier',\n",
        "               'shetland_sheepdog', 'shih-tzu', 'siberian_husky', 'silky_terrier',\n",
        "               'soft-coated_wheaten_terrier', 'staffordshire_bullterrier', 'standard_poodle', 'standard_schnauzer',\n",
        "               'sussex_spaniel', 'tibetan_mastiff', 'tibetan_terrier', 'toy_poodle',\n",
        "               'toy_terrier', 'vizsla', 'walker_hound', 'weimaraner', 'welsh_springer_spaniel',\n",
        "               'west_highland_white_terrier', 'whippet', 'wire-haired_fox_terrier', 'yorkshire_terrier']"
      ],
      "execution_count": null,
      "outputs": []
    },
    {
      "cell_type": "code",
      "metadata": {
        "id": "J2sYolhn2dDg"
      },
      "source": [
        "transforms_test = transforms.Compose([transforms.Resize(224),\n",
        "                                      transforms.ToTensor(),\n",
        "                                      transforms.Normalize([0.485, 0.456, 0.406], \n",
        "                                                           [0.229, 0.224, 0.225])\n",
        "                                     ])\n",
        "model.eval()\n",
        "\n",
        "def predict_image(path, model):\n",
        "    img = Image.open(path).convert('RGB')\n",
        "    imshow(np.asarray(img))\n",
        "    image_tensor = transforms_test(img).float()\n",
        "    image_tensor = image_tensor.unsqueeze(0)\n",
        "    image_tensor = image_tensor.to(device)\n",
        "    output = model(image_tensor)\n",
        "    index = output.argmax().item()\n",
        "    return classes[index]"
      ],
      "execution_count": null,
      "outputs": []
    },
    {
      "cell_type": "markdown",
      "metadata": {
        "id": "G3gkjn8t2kYi"
      },
      "source": [
        "Opening the weights and applying an image"
      ]
    },
    {
      "cell_type": "code",
      "metadata": {
        "id": "cVpga6rh2e1v"
      },
      "source": [
        "path_weights = '/content/gdrive/My Drive/dogBreedClassifier/model_weights100ep.pth'\n",
        "model.load_state_dict(torch.load(path_weights))\n",
        "if torch.cuda.is_available():\n",
        "    model.cuda()"
      ],
      "execution_count": null,
      "outputs": []
    },
    {
      "cell_type": "code",
      "metadata": {
        "id": "gQojDZbq2goo"
      },
      "source": [
        "path = '/content/gdrive/My Drive/dogBreedClassifier/444.png'\n",
        "predict_image(path, model)"
      ],
      "execution_count": null,
      "outputs": []
    }
  ]
}